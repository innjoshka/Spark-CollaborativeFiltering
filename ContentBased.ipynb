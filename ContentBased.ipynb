{
 "cells": [
  {
   "cell_type": "code",
   "execution_count": 1,
   "metadata": {
    "collapsed": true
   },
   "outputs": [],
   "source": [
    "import pandas as pd\n",
    "import numpy as np\n",
    "import matplotlib.pyplot as plt\n",
    "import random\n",
    "from sklearn import linear_model\n",
    "from sklearn.metrics import mean_squared_error\n",
    "from sklearn import svm\n",
    "import sys\n",
    "from os import remove, removedirs\n",
    "from os.path import join, isfile, dirname\n",
    "from time import time"
   ]
  },
  {
   "cell_type": "code",
   "execution_count": 5,
   "metadata": {
    "collapsed": false
   },
   "outputs": [
    {
     "name": "stdout",
     "output_type": "stream",
     "text": [
      "Looks like you've already rated the movies. Overwrite ratings (y/N)? \n"
     ]
    },
    {
     "ename": "SystemExit",
     "evalue": "",
     "output_type": "error",
     "traceback": [
      "An exception has occurred, use %tb to see the full traceback.\n",
      "\u001b[1;31mSystemExit\u001b[0m\n"
     ]
    },
    {
     "name": "stderr",
     "output_type": "stream",
     "text": [
      "To exit: use 'exit', 'quit', or Ctrl-D.\n"
     ]
    }
   ],
   "source": [
    "#construct the ratings for the demo user\n",
    "topMovies = \"\"\"1,Toy Story (1995)\n",
    "780,Independence Day (a.k.a. ID4) (1996)\n",
    "590,Dances with Wolves (1990)\n",
    "1210,Star Wars: Episode VI - Return of the Jedi (1983)\n",
    "648,Mission: Impossible (1996)\n",
    "344,Ace Ventura: Pet Detective (1994)\n",
    "165,Die Hard: With a Vengeance (1995)\n",
    "153,Batman Forever (1995)\n",
    "597,Pretty Woman (1990)\n",
    "1580,Men in Black (1997)\n",
    "231,Dumb & Dumber (1994)\"\"\"\n",
    "__file__=\"\"\n",
    "parentDir = dirname(dirname(__file__))\n",
    "ratingsFile = join(parentDir, \"personalRatings.txt\")\n",
    "\n",
    "if isfile(ratingsFile):\n",
    "    r = raw_input(\"Looks like you've already rated the movies. Overwrite ratings (y/N)? \")\n",
    "    if r and r[0].lower() == \"y\":\n",
    "        remove(ratingsFile)\n",
    "    else:\n",
    "        sys.exit()\n",
    "\n",
    "prompt = \"Please rate the following movie (1-5 (best), or 0 if not seen): \"\n",
    "print prompt\n",
    "\n",
    "now = int(time())\n",
    "n = 0\n",
    "\n",
    "f = open(ratingsFile, 'w')\n",
    "for line in topMovies.split(\"\\n\"):\n",
    "    ls = line.strip().split(\",\")\n",
    "    valid = False\n",
    "    while not valid:\n",
    "        rStr = raw_input(ls[1] + \": \")\n",
    "        r = int(rStr) if rStr.isdigit() else -1\n",
    "        if r < 0 or r > 5:\n",
    "            print prompt\n",
    "        else:\n",
    "            valid = True\n",
    "            if r > 0:\n",
    "                f.write(\"0::%s::%d::%d\\n\" % (ls[0], r, now))\n",
    "                n += 1\n",
    "f.close()\n",
    "\n",
    "if n == 0:\n",
    "    print \"No rating provided!\""
   ]
  },
  {
   "cell_type": "code",
   "execution_count": 2,
   "metadata": {
    "collapsed": false
   },
   "outputs": [],
   "source": [
    "mnames=['user_id','movie_id','movie_rating','timestamp']\n",
    "demo_rate=pd.read_table('personalRatings.txt',sep='::', engine='python',header=None, names=mnames)"
   ]
  },
  {
   "cell_type": "code",
   "execution_count": 3,
   "metadata": {
    "collapsed": false
   },
   "outputs": [],
   "source": [
    "mnames=['user_id','movie_id','movie_rating','timestamp']\n",
    "movie_rate=pd.read_table('hetrec/user_ratedmovies-timestamps.dat',sep='\\t', engine='python',header=None, names=mnames)"
   ]
  },
  {
   "cell_type": "code",
   "execution_count": 4,
   "metadata": {
    "collapsed": false
   },
   "outputs": [],
   "source": [
    "mnames=['movie_id','tag_id','tag_weight']\n",
    "movie_tags=pd.read_table('hetrec/movie_tags.dat',sep='\\t', engine='python',header=None, names=mnames)"
   ]
  },
  {
   "cell_type": "code",
   "execution_count": 5,
   "metadata": {
    "collapsed": false
   },
   "outputs": [],
   "source": [
    "mnames=['movie_id','country']\n",
    "movie_country=pd.read_table('hetrec/movie_countries.dat',sep='\\t', engine='python',header=None, names=mnames)"
   ]
  },
  {
   "cell_type": "code",
   "execution_count": 6,
   "metadata": {
    "collapsed": true
   },
   "outputs": [],
   "source": [
    "mnames=['movie_id','director_id','directorName']\n",
    "movie_director=pd.read_table('hetrec/movie_directors.dat',sep='\\t', engine='python',header=None, names=mnames)"
   ]
  },
  {
   "cell_type": "code",
   "execution_count": 7,
   "metadata": {
    "collapsed": true
   },
   "outputs": [],
   "source": [
    "mnames=['movie_id','genre']\n",
    "movie_genre=pd.read_table('hetrec/movie_genres.dat',sep='\\t', engine='python',header=None, names=mnames)"
   ]
  },
  {
   "cell_type": "code",
   "execution_count": 8,
   "metadata": {
    "collapsed": false
   },
   "outputs": [],
   "source": [
    "movieActor = {}\n",
    "actorDict = {};\n",
    "def readActors():\n",
    "    fobj = open('hetrec/movie_actors.dat', 'r');\n",
    "    fobj.readline();\n",
    "    while True:\n",
    "        s = fobj.readline();\n",
    "        if len(s) == 0:\n",
    "            break;\n",
    "        li = s.split('\\t');\n",
    "        movID = li[0]; actorID = li[1]; ranking = li[3];\n",
    "        movID = int(movID); ranking = int(ranking);\n",
    "        if movID in movieActor:\n",
    "            movieActor[movID].append((actorID, ranking));\n",
    "        else:\n",
    "            movieActor[movID] = [(actorID, ranking)];\n",
    "        \n",
    "        actorDict[actorID] = 0;\n",
    "            \n",
    "    fobj.close();\n",
    "    \n",
    "    \n",
    "readActors()"
   ]
  },
  {
   "cell_type": "code",
   "execution_count": 9,
   "metadata": {
    "collapsed": false
   },
   "outputs": [],
   "source": [
    "movie_actors = pd.DataFrame([[col1,col2,col3] for col1, d in movieActor.items() for col2, col3 in d]\n",
    "                            ,columns=['movie_id','actor','actor_rating'])\n",
    "del actorDict\n",
    "del col1, col2,col3\n",
    "del d\n",
    "del movieActor\n",
    "#movie_actors.head()\n"
   ]
  },
  {
   "cell_type": "code",
   "execution_count": 10,
   "metadata": {
    "collapsed": false
   },
   "outputs": [],
   "source": [
    "movie_country=movie_country[movie_country.index!=0]\n",
    "movie_director=movie_director[movie_director.index!=0]\n",
    "movie_genre=movie_genre[movie_genre.index!=0]\n",
    "movie_rate=movie_rate[movie_rate.index!=0]\n",
    "movie_tags=movie_tags[movie_tags.index!=0]\n",
    "del movie_director['directorName']"
   ]
  },
  {
   "cell_type": "code",
   "execution_count": 11,
   "metadata": {
    "collapsed": false
   },
   "outputs": [],
   "source": [
    "tags_pivot=movie_tags.pivot(index='movie_id', columns='tag_id', values='tag_weight')\n",
    "tags_pivot=tags_pivot.fillna(0)"
   ]
  },
  {
   "cell_type": "code",
   "execution_count": 12,
   "metadata": {
    "collapsed": false
   },
   "outputs": [],
   "source": [
    "rates_pivot=movie_rate.pivot(index='movie_id', columns='user_id', values='movie_rating')\n",
    "rates_pivot=rates_pivot.fillna(0)"
   ]
  },
  {
   "cell_type": "code",
   "execution_count": 13,
   "metadata": {
    "collapsed": false
   },
   "outputs": [],
   "source": [
    "nrows, ncols=rates_pivot.shape"
   ]
  },
  {
   "cell_type": "code",
   "execution_count": null,
   "metadata": {
    "collapsed": false
   },
   "outputs": [],
   "source": [
    "#ridge regression\n",
    "#randomly get a users ratings\n",
    "sample_size=20\n",
    "random_user=np.random.randint(0,high=ncols,size=sample_size)\n",
    "pred=np.zeros(1,dtype=float)\n",
    "actual=np.zeros(1,dtype=float)\n",
    "#here put the loop\n",
    "for i in range(1,sample_size+1):\n",
    "    #print i\n",
    "    user_rating=rates_pivot.ix[:,random_user[0]]\n",
    "    user_rating=user_rating.fillna(0)\n",
    "    user_rating=user_rating[user_rating>0]\n",
    "    #print type(user_rating)\n",
    "    #randomly split the user data into test and train\n",
    "    random_movies=random.sample(user_rating.index, user_rating.size/5)\n",
    "    test_target=user_rating.ix[random_movies].astype(float)\n",
    "    #test=random_sample.ix[random.sample(random_sample.index, 10)]\n",
    "    train_target=user_rating.drop(random_movies).astype(float)\n",
    "    test_features=tags_pivot.ix[test_target.index]\n",
    "    test_features=test_features.fillna(0)\n",
    "    test_features=test_features.values.astype(float)\n",
    "    train_features=tags_pivot.ix[train_target.index]\n",
    "    train_features=train_features.fillna(0)\n",
    "    train_features=train_features.values.astype(float)\n",
    "    clf = linear_model.Ridge (alpha=100)\n",
    "    clf.fit (train_features,train_target.values.astype(float))\n",
    "    #clf.predict(test_features)\n",
    "    #print mean_squared_error(test_target.values.astype(float), clf.predict(test_features))\n",
    "    actual=np.append(actual,test_target.values.astype(float))\n",
    "    pred=np.append(pred,clf.predict(test_features))"
   ]
  },
  {
   "cell_type": "code",
   "execution_count": null,
   "metadata": {
    "collapsed": false
   },
   "outputs": [],
   "source": [
    "mean_squared_error(actual,pred)"
   ]
  },
  {
   "cell_type": "code",
   "execution_count": null,
   "metadata": {
    "collapsed": true
   },
   "outputs": [],
   "source": [
    "#Lasso regression\n",
    "#randomly get a users ratings\n",
    "sample_size=20\n",
    "random_user=np.random.randint(0,high=ncols,size=sample_size)\n",
    "pred=np.zeros(1,dtype=float)\n",
    "actual=np.zeros(1,dtype=float)\n",
    "#here put the loop\n",
    "for i in range(1,sample_size+1):\n",
    "    #print i\n",
    "    user_rating=rates_pivot.ix[:,random_user[0]]\n",
    "    user_rating=user_rating.fillna(0)\n",
    "    user_rating=user_rating[user_rating>0]\n",
    "    #print type(user_rating)\n",
    "    #randomly split the user data into test and train\n",
    "    random_movies=random.sample(user_rating.index, user_rating.size/5)\n",
    "    test_target=user_rating.ix[random_movies].astype(float)\n",
    "    #test=random_sample.ix[random.sample(random_sample.index, 10)]\n",
    "    train_target=user_rating.drop(random_movies).astype(float)\n",
    "    test_features=tags_pivot.ix[test_target.index]\n",
    "    test_features=test_features.fillna(0)\n",
    "    test_features=test_features.values.astype(float)\n",
    "    train_features=tags_pivot.ix[train_target.index]\n",
    "    train_features=train_features.fillna(0)\n",
    "    train_features=train_features.values.astype(float)\n",
    "    clf = linear_model.Lasso(alpha = 0.1)\n",
    "    clf.fit (train_features,train_target.values.astype(float))\n",
    "    #clf.predict(test_features)\n",
    "    #print mean_squared_error(test_target.values.astype(float), clf.predict(test_features))\n",
    "    actual=np.append(actual,test_target.values.astype(float))\n",
    "    pred=np.append(pred,clf.predict(test_features))"
   ]
  },
  {
   "cell_type": "code",
   "execution_count": null,
   "metadata": {
    "collapsed": false
   },
   "outputs": [],
   "source": [
    "mean_squared_error(actual,pred)"
   ]
  },
  {
   "cell_type": "code",
   "execution_count": 17,
   "metadata": {
    "collapsed": false
   },
   "outputs": [],
   "source": [
    "#SV regression\n",
    "#randomly get a users ratings\n",
    "sample_size=2\n",
    "random_user=np.random.randint(0,high=ncols,size=sample_size)\n",
    "pred=np.zeros(1,dtype=float)\n",
    "actual=np.zeros(1,dtype=float)\n",
    "#here put the loop\n",
    "for i in range(1,sample_size+1):\n",
    "    #print i\n",
    "    user_rating=rates_pivot.ix[:,random_user[0]]\n",
    "    user_rating=user_rating.fillna(0)\n",
    "    user_rating=user_rating[user_rating>0]\n",
    "    #print type(user_rating)\n",
    "    #randomly split the user data into test and train\n",
    "    random_movies=random.sample(user_rating.index, user_rating.size/5)\n",
    "    test_target=user_rating.ix[random_movies].astype(float)\n",
    "    #test=random_sample.ix[random.sample(random_sample.index, 10)]\n",
    "    train_target=user_rating.drop(random_movies).astype(float)\n",
    "    test_features=tags_pivot.ix[test_target.index]\n",
    "    test_features=test_features.fillna(0)\n",
    "    test_features=test_features.values.astype(float)\n",
    "    train_features=tags_pivot.ix[train_target.index]\n",
    "    train_features=train_features.fillna(0)\n",
    "    train_features=train_features.values.astype(float)\n",
    "    clf = svm.SVR()\n",
    "    clf.fit (train_features,train_target.values.astype(float))\n",
    "    #clf.predict(test_features)\n",
    "    #print mean_squared_error(test_target.values.astype(float), clf.predict(test_features))\n",
    "    actual=np.append(actual,test_target.values.astype(float))\n",
    "    pred=np.append(pred,clf.predict(test_features))"
   ]
  },
  {
   "cell_type": "code",
   "execution_count": 18,
   "metadata": {
    "collapsed": false
   },
   "outputs": [
    {
     "data": {
      "text/plain": [
       "1.2511432595808303"
      ]
     },
     "execution_count": 18,
     "metadata": {},
     "output_type": "execute_result"
    }
   ],
   "source": [
    "mean_squared_error(actual,pred)"
   ]
  },
  {
   "cell_type": "code",
   "execution_count": null,
   "metadata": {
    "collapsed": true
   },
   "outputs": [],
   "source": []
  }
 ],
 "metadata": {
  "kernelspec": {
   "display_name": "Python 2",
   "language": "python",
   "name": "python2"
  },
  "language_info": {
   "codemirror_mode": {
    "name": "ipython",
    "version": 2
   },
   "file_extension": ".py",
   "mimetype": "text/x-python",
   "name": "python",
   "nbconvert_exporter": "python",
   "pygments_lexer": "ipython2",
   "version": "2.7.6"
  }
 },
 "nbformat": 4,
 "nbformat_minor": 0
}
