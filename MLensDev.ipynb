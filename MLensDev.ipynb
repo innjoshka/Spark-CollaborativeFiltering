{
 "cells": [
  {
   "cell_type": "code",
   "execution_count": 1,
   "metadata": {
    "collapsed": false
   },
   "outputs": [],
   "source": [
    "#run with this MASTER=local[4] IPYTHON_OPTS=\"notebook \" ./bin/pyspark\n",
    "\n",
    "#load spark context\n",
    "from pyspark import SparkConf, SparkContext\n",
    "from pyspark.mllib.recommendation import ALS\n",
    "\n",
    "import sys\n",
    "from os import remove, removedirs\n",
    "from os.path import join, isfile, dirname\n",
    "from time import time\n",
    "import numpy as np \n",
    "import itertools\n",
    "from math import sqrt\n",
    "from operator import add"
   ]
  },
  {
   "cell_type": "code",
   "execution_count": 2,
   "metadata": {
    "collapsed": false
   },
   "outputs": [
    {
     "name": "stdout",
     "output_type": "stream",
     "text": [
      "Looks like you've already rated the movies. Overwrite ratings (y/N)? N\n"
     ]
    },
    {
     "ename": "SystemExit",
     "evalue": "",
     "output_type": "error",
     "traceback": [
      "An exception has occurred, use %tb to see the full traceback.\n",
      "\u001b[1;31mSystemExit\u001b[0m\n"
     ]
    },
    {
     "name": "stderr",
     "output_type": "stream",
     "text": [
      "To exit: use 'exit', 'quit', or Ctrl-D.\n"
     ]
    }
   ],
   "source": [
    "#construct the ratings for the demo user\n",
    "topMovies = \"\"\"1,Toy Story (1995)\n",
    "780,Independence Day (a.k.a. ID4) (1996)\n",
    "590,Dances with Wolves (1990)\n",
    "1210,Star Wars: Episode VI - Return of the Jedi (1983)\n",
    "648,Mission: Impossible (1996)\n",
    "344,Ace Ventura: Pet Detective (1994)\n",
    "165,Die Hard: With a Vengeance (1995)\n",
    "153,Batman Forever (1995)\n",
    "597,Pretty Woman (1990)\n",
    "1580,Men in Black (1997)\n",
    "231,Dumb & Dumber (1994)\"\"\"\n",
    "__file__=\"\"\n",
    "parentDir = dirname(dirname(__file__))\n",
    "ratingsFile = join(parentDir, \"personalRatings.txt\")\n",
    "\n",
    "if isfile(ratingsFile):\n",
    "    r = raw_input(\"Looks like you've already rated the movies. Overwrite ratings (y/N)? \")\n",
    "    if r and r[0].lower() == \"y\":\n",
    "        remove(ratingsFile)\n",
    "    else:\n",
    "        sys.exit()\n",
    "\n",
    "prompt = \"Please rate the following movie (1-5 (best), or 0 if not seen): \"\n",
    "print prompt\n",
    "\n",
    "now = int(time())\n",
    "n = 0\n",
    "\n",
    "f = open(ratingsFile, 'w')\n",
    "for line in topMovies.split(\"\\n\"):\n",
    "    ls = line.strip().split(\",\")\n",
    "    valid = False\n",
    "    while not valid:\n",
    "        rStr = raw_input(ls[1] + \": \")\n",
    "        r = int(rStr) if rStr.isdigit() else -1\n",
    "        if r < 0 or r > 5:\n",
    "            print prompt\n",
    "        else:\n",
    "            valid = True\n",
    "            if r > 0:\n",
    "                f.write(\"0::%s::%d::%d\\n\" % (ls[0], r, now))\n",
    "                n += 1\n",
    "f.close()\n",
    "\n",
    "if n == 0:\n",
    "    print \"No rating provided!\""
   ]
  },
  {
   "cell_type": "code",
   "execution_count": 3,
   "metadata": {
    "collapsed": true
   },
   "outputs": [],
   "source": [
    "#function definition \n",
    "def getMovies(line):\n",
    "    \"\"\"\n",
    "    Read movie record format movieId::movieTitle .\n",
    "    \"\"\"\n",
    "    record = line.strip().split(\"::\")\n",
    "    return int(record[0]), record[1]\n",
    "\n",
    "def getRates(line):\n",
    "    \"\"\"\n",
    "    Read Ratings format userId::movieId::rating::timestamp .\n",
    "    \"\"\"\n",
    "    record = line.strip().split(\"::\")\n",
    "    return long(record[3]) % 10, (int(record[0]), int(record[1]), float(record[2]))\n",
    "\n",
    "def loadRatings(ratingsFile):\n",
    "    \"\"\"\n",
    "    Load personal ratings from file.\n",
    "    \"\"\"\n",
    "    if not isfile(ratingsFile):\n",
    "        print \"File %s does not exist.\" % ratingsFile\n",
    "        sys.exit(1)\n",
    "    f = open(ratingsFile, 'r')\n",
    "    ratings = filter(lambda r: r[2] > 0, [getRates(line)[1] for line in f])\n",
    "    f.close()\n",
    "    if not ratings:\n",
    "        print \"No ratings provided.\"\n",
    "        sys.exit(1)\n",
    "    else:\n",
    "        return ratings\n",
    "\n",
    "def computeRmse(model, data, n):\n",
    "    \"\"\"\n",
    "    Compute RMSE (Root Mean Squared Error).\n",
    "    \"\"\"\n",
    "    predictions = model.predictAll(data.map(lambda x: (x[0], x[1])))\n",
    "    predictionsAndRatings = predictions.map(lambda x: ((x[0], x[1]), x[2])) \\\n",
    "      .join(data.map(lambda x: ((x[0], x[1]), x[2]))) \\\n",
    "      .values()\n",
    "    return sqrt(predictionsAndRatings.map(lambda x: (x[0] - x[1]) ** 2).reduce(add) / float(n))\n",
    "\n"
   ]
  },
  {
   "cell_type": "code",
   "execution_count": 6,
   "metadata": {
    "collapsed": false
   },
   "outputs": [
    {
     "name": "stdout",
     "output_type": "stream",
     "text": [
      "Got 1000209 ratings from 6040 users on 3706 movies.\n"
     ]
    }
   ],
   "source": [
    "#loading data\n",
    "if __name__ == \"__main__\":\n",
    "    sys.argv=[\"../bin/spark-submit\", \"ml-1m/\", \"personalRatings.txt\"]\n",
    "\n",
    "    # load personal ratings\n",
    "    myRatings = loadRatings(sys.argv[2])\n",
    "    myRatingsRDD = sc.parallelize(myRatings, 20)\n",
    "\n",
    "    \n",
    "    # load ratings and movie titles\n",
    "\n",
    "    movieLensHomeDir = sys.argv[1]\n",
    "\n",
    "    # ratings is an RDD of (last digit of timestamp, (userId, movieId, rating))\n",
    "    ratings = sc.textFile(join(movieLensHomeDir, \"ratings.dat\")).map(getRates)\n",
    "\n",
    "    # movies is an RDD of (movieId, movieTitle)\n",
    "    movies = dict(sc.textFile(join(movieLensHomeDir, \"movies.dat\")).map(getMovies).collect())\n",
    "\n",
    "    # your code here\n",
    "    numRatings = ratings.count()\n",
    "    numUsers = ratings.values().map(lambda r: r[0]).distinct().count()\n",
    "    numMovies = ratings.values().map(lambda r: r[1]).distinct().count()\n",
    "\n",
    "    print \"Got %d ratings from %d users on %d movies.\" % (numRatings, numUsers, numMovies)\n",
    "    \n",
    "   "
   ]
  },
  {
   "cell_type": "code",
   "execution_count": 7,
   "metadata": {
    "collapsed": false
   },
   "outputs": [
    {
     "name": "stdout",
     "output_type": "stream",
     "text": [
      "Training: 602248, validation: 198919, test: 199049\n"
     ]
    }
   ],
   "source": [
    "# split ratings into train (60%), validation (20%), and test (20%) \n",
    "\n",
    "numPartitions = 4\n",
    "training = ratings.filter(lambda x: x[0] < 6)\\\n",
    ".values() \\\n",
    ".union(myRatingsRDD) \\\n",
    ".repartition(numPartitions) \\\n",
    ".cache()\n",
    "\n",
    "validation = ratings.filter(lambda x: x[0] >= 6 and x[0] < 8) \\\n",
    ".values() \\\n",
    ".repartition(numPartitions) \\\n",
    ".cache()\n",
    "\n",
    "test = ratings.filter(lambda x: x[0] >= 8).values().cache()\n",
    "\n",
    "numTraining = training.count()\n",
    "numValidation = validation.count()\n",
    "numTest = test.count()\n",
    "\n",
    "print \"Training: %d, validation: %d, test: %d\" % (numTraining, numValidation, numTest)"
   ]
  },
  {
   "cell_type": "code",
   "execution_count": null,
   "metadata": {
    "collapsed": false
   },
   "outputs": [
    {
     "name": "stdout",
     "output_type": "stream",
     "text": [
      "RMSE (validation) = 0.888052 for the model trained with rank = 8, lambda = 0.0, and numIter = 10.\n",
      "RMSE (validation) = 0.883556 for the model trained with rank = 8, lambda = 0.0, and numIter = 30.\n",
      "RMSE (validation) = 0.877167 for the model trained with rank = 8, lambda = 0.1, and numIter = 10."
     ]
    }
   ],
   "source": [
    "\n",
    "# train models and evaluate them on the validation set\n",
    "\n",
    "ranks = [8, 12, 16, 20, 40]\n",
    "lambdas = [0.03, 0.1, 1.0, 10.0]\n",
    "numIters = [10, 30]\n",
    "bestModel = None\n",
    "bestValidationRmse = float(\"inf\")\n",
    "bestRank = 0\n",
    "bestLambda = -1.0\n",
    "bestNumIter = -1\n",
    "\n",
    "for rank, lmbda, numIter in itertools.product(ranks, lambdas, numIters):\n",
    "    model = ALS.train(training, rank, numIter, lmbda, blocks=-1)\n",
    "    validationRmse = computeRmse(model, validation, numValidation)\n",
    "    print \"RMSE (validation) = %f for the model trained with \" % validationRmse + \\\n",
    "    \"rank = %d, lambda = %.1f, and numIter = %d.\" % (rank, lmbda, numIter)\n",
    "    \"\"\"\n",
    "    if (numIter==10):\n",
    "        if (rank==8):\n",
    "            heatData10[0].append(validationRmse)\n",
    "        elif (rank==12):\n",
    "            heatData10[1].append(validationRmse)\n",
    "        elif(rank==16):\n",
    "            heatData10[2].append(validationRmse)\n",
    "        elif(rank==20):\n",
    "            heatData10[3].append(validationRmse)\n",
    "        else:\n",
    "            heatData10[4].append(validationRmse) \n",
    "                \n",
    "    if (numIter==30):\n",
    "        if (rank==8):\n",
    "            heatData30[0].append(validationRmse)\n",
    "        elif(rank==12):\n",
    "            heatData30[1].append(validationRmse)\n",
    "        elif(rank==16):\n",
    "            heatData30[2].append(validationRmse)\n",
    "        elif(rank==20):\n",
    "            heatData30[3].append(validationRmse) \n",
    "        else:\n",
    "            heatData30[4].append(validationRmse) \n",
    "    \"\"\"\n",
    "    if (validationRmse < bestValidationRmse):\n",
    "        bestModel = model\n",
    "        bestValidationRmse = validationRmse\n",
    "        bestRank = rank\n",
    "        bestLambda = lmbda\n",
    "        bestNumIter = numIter\n",
    "        \n"
   ]
  },
  {
   "cell_type": "code",
   "execution_count": null,
   "metadata": {
    "collapsed": false
   },
   "outputs": [],
   "source": [
    "testRmse = computeRmse(bestModel, test, numTest)        "
   ]
  },
  {
   "cell_type": "code",
   "execution_count": 21,
   "metadata": {
    "collapsed": false
   },
   "outputs": [
    {
     "name": "stdout",
     "output_type": "stream",
     "text": [
      "The best model was trained with rank = 20 and lambda = 0.1, and numIter = 30, and its RMSE on the test set is 0.866613.\n"
     ]
    }
   ],
   "source": [
    "# evaluate the best model on the test set\n",
    "print \"The best model was trained with rank = %d and lambda = %.1f, \" % (bestRank, bestLambda) \\\n",
    "+ \"and numIter = %d, and its RMSE on the test set is %f.\" % (bestNumIter, testRmse)"
   ]
  },
  {
   "cell_type": "code",
   "execution_count": 8,
   "metadata": {
    "collapsed": false
   },
   "outputs": [
    {
     "name": "stdout",
     "output_type": "stream",
     "text": [
      "RMSE (Test) = 0.868517 for the model trained with rank = 20, lambda = 0.1, and numIter = 30.\n"
     ]
    },
    {
     "data": {
      "text/plain": [
       "'\\nimport numpy as np\\nnp.array(heatData30)\\n'"
      ]
     },
     "execution_count": 8,
     "metadata": {},
     "output_type": "execute_result"
    }
   ],
   "source": [
    "#this is not needed , just for test and Demo\n",
    "\n",
    "rank = 20\n",
    "lmbda = 0.1\n",
    "numIter = 30\n",
    "model = ALS.train(training, rank, numIter, lmbda)\n",
    "validationRmse = computeRmse(model, validation, numValidation)\n",
    "print \"RMSE (Test) = %f for the model trained with \" % validationRmse + \\\n",
    "\"rank = %d, lambda = %.1f, and numIter = %d.\" % (rank, lmbda, numIter)\n",
    "\n",
    "\n",
    "\"\"\"\n",
    "import numpy as np\n",
    "np.array(heatData30)\n",
    "\"\"\""
   ]
  },
  {
   "cell_type": "code",
   "execution_count": 9,
   "metadata": {
    "collapsed": false
   },
   "outputs": [
    {
     "name": "stdout",
     "output_type": "stream",
     "text": [
      "Movies recommended for you:\n",
      " 1: Bandits (1997)\n",
      " 2: For All Mankind (1989)\n",
      " 3: Sanjuro (1962)\n",
      " 4: Bewegte Mann, Der (1994)\n",
      " 5: Man of the Century (1999)\n",
      " 6: Star Wars: Episode IV - A New Hope (1977)\n",
      " 7: Dj Vu (1997)\n",
      " 8: Godfather, The (1972)\n",
      " 9: Shawshank Redemption, The (1994)\n",
      "10: Life Is Beautiful (La Vita  bella) (1997)\n"
     ]
    }
   ],
   "source": [
    "# make personalized recommendations\n",
    "bestModel=model\n",
    "myRatedMovieIds = set([x[1] for x in myRatings])\n",
    "#candidates = sc.parallelize([m for m in movies if m not in myRatedMovieIds])\n",
    "myRatedMovieIds = set([x[1] for x in myRatings])\n",
    "predictions = bestModel.predictAll(candidates.map(lambda x: (0, x))).collect()\n",
    "recommendations = sorted(predictions, key=lambda x: x[2], reverse=True)[:10]\n",
    "\n",
    "print \"Movies recommended for you:\"\n",
    "for i in xrange(len(recommendations)):\n",
    "    print (\"%2d: %s\" % (i + 1, movies[recommendations[i][1]])).encode('ascii', 'ignore')\n"
   ]
  },
  {
   "cell_type": "code",
   "execution_count": 16,
   "metadata": {
    "collapsed": false
   },
   "outputs": [
    {
     "data": {
      "text/plain": [
       "[Rating(user=0, product=2562, rating=4.7454723635454545),\n",
       " Rating(user=0, product=3338, rating=4.705075877972453),\n",
       " Rating(user=0, product=2905, rating=4.7025825730989155),\n",
       " Rating(user=0, product=811, rating=4.693953282221936),\n",
       " Rating(user=0, product=2999, rating=4.627185182089478),\n",
       " Rating(user=0, product=260, rating=4.598928836030872),\n",
       " Rating(user=0, product=2175, rating=4.584876269517677),\n",
       " Rating(user=0, product=858, rating=4.58264484932971),\n",
       " Rating(user=0, product=318, rating=4.5606836508174),\n",
       " Rating(user=0, product=2324, rating=4.549865970502)]"
      ]
     },
     "execution_count": 16,
     "metadata": {},
     "output_type": "execute_result"
    }
   ],
   "source": [
    "recommendations"
   ]
  },
  {
   "cell_type": "code",
   "execution_count": 13,
   "metadata": {
    "collapsed": true
   },
   "outputs": [],
   "source": [
    "# clean up\n",
    "sc.stop()"
   ]
  }
 ],
 "metadata": {
  "kernelspec": {
   "display_name": "Python 2",
   "language": "python",
   "name": "python2"
  },
  "language_info": {
   "codemirror_mode": {
    "name": "ipython",
    "version": 2
   },
   "file_extension": ".py",
   "mimetype": "text/x-python",
   "name": "python",
   "nbconvert_exporter": "python",
   "pygments_lexer": "ipython2",
   "version": "2.7.6"
  }
 },
 "nbformat": 4,
 "nbformat_minor": 0
}
